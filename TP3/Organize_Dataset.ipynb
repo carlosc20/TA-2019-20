{
 "cells": [
  {
   "cell_type": "markdown",
   "metadata": {},
   "source": [
    "# Organization of Dataset\n",
    "\n",
    "This notebook contains scripts that organize the dataset from [dogsVScats](https://www.kaggle.com/c/dogs-vs-cats/data).\n",
    "\n",
    "The organizations is as follow:\n",
    "- train/\n",
    "    - cat/\n",
    "    - dog/\n",
    "- test/\n",
    "    - cat/\n",
    "    - dog/"
   ]
  },
  {
   "cell_type": "code",
   "execution_count": 1,
   "metadata": {},
   "outputs": [],
   "source": [
    "import glob\n",
    "import os"
   ]
  },
  {
   "cell_type": "markdown",
   "metadata": {},
   "source": [
    "## Separate dogs from cats"
   ]
  },
  {
   "cell_type": "code",
   "execution_count": 2,
   "metadata": {},
   "outputs": [],
   "source": [
    "def get_label(file_path):\n",
    "    return file_path.split(\".\")[0]\n",
    "\n",
    "path=\"dogsVScats\" + os.path.sep\n",
    "train_photos = glob.glob(path + \"train\" + os.path.sep + \"*.jpg\")\n",
    "\n",
    "if os.path.isdir(path + \"new_train\") == False:\n",
    "    os.mkdir(path + \"new_train\")\n",
    "    \n",
    "if os.path.isdir(path + \"new_train\" + os.path.sep + \"cat\") == False:\n",
    "    os.mkdir(path + \"new_train\" + os.path.sep + \"cat\")\n",
    "    \n",
    "if os.path.isdir(path + \"new_train\" + os.path.sep + \"dog\") == False:\n",
    "    os.mkdir(path + \"new_train\" + os.path.sep + \"dog\")\n",
    "\n",
    "for photo in train_photos:\n",
    "    photo_name = photo.split(os.path.sep)[-1]\n",
    "    os.replace(photo, path + \"new_train\" + os.path.sep + get_label(photo_name) + os.path.sep + photo_name)"
   ]
  },
  {
   "cell_type": "markdown",
   "metadata": {},
   "source": [
    "## Test"
   ]
  },
  {
   "cell_type": "markdown",
   "metadata": {},
   "source": [
    "### Create class folders"
   ]
  },
  {
   "cell_type": "code",
   "execution_count": 3,
   "metadata": {},
   "outputs": [],
   "source": [
    "path = \"dogsVScats\" + os.path.sep + \"test\" + os.path.sep\n",
    "\n",
    "if os.path.isdir(path) == False:\n",
    "    os.mkdir(path)\n",
    "\n",
    "if os.path.isdir(path + \"cat\") == False:\n",
    "    os.mkdir(path + \"cat\")\n",
    "\n",
    "if os.path.isdir(path + \"dog\") == False:\n",
    "    os.mkdir(path + \"dog\")"
   ]
  },
  {
   "cell_type": "markdown",
   "metadata": {},
   "source": [
    "### Take 1000 from each class of train"
   ]
  },
  {
   "cell_type": "code",
   "execution_count": 4,
   "metadata": {},
   "outputs": [],
   "source": [
    "path = \"dogsVScats\" + os.path.sep + \"new_train\" + os.path.sep\n",
    "\n",
    "cats_test = glob.glob(\"dogsVScats\" + os.path.sep + \"test\" + os.path.sep + \"cat\" + os.path.sep + \"*.jpg\")\n",
    "if len(cats_test) == 0:\n",
    "    cats = glob.glob(path + \"cat\" + os.path.sep + \"*.jpg\")\n",
    "    i=0\n",
    "    for cat in cats:\n",
    "        if i == 1000:\n",
    "            break\n",
    "        i+=1\n",
    "        cat_name = cat.split(os.path.sep)[-1]\n",
    "        os.replace(cat, \"dogsVScats\" + os.path.sep + \"test\" + os.path.sep + \"cat\" + os.path.sep + cat_name)\n",
    "\n",
    "dogs_test = glob.glob(\"dogsVScats\" + os.path.sep + \"test\" + os.path.sep + \"dog\" + os.path.sep + \"*.jpg\")\n",
    "if len(dogs_test) == 0:\n",
    "    dogs = glob.glob(path + \"dog\" + os.path.sep + \"*.jpg\")\n",
    "    i = 0\n",
    "    for dog in dogs:\n",
    "        if i == 1000:\n",
    "            break\n",
    "        i+=1\n",
    "        dog_name = dog.split(os.path.sep)[-1]\n",
    "        os.replace(dog, \"dogsVScats\" + os.path.sep + \"test\" + os.path.sep + \"dog\" + os.path.sep + dog_name)"
   ]
  }
 ],
 "metadata": {
  "kernelspec": {
   "display_name": "Python 3",
   "language": "python",
   "name": "python3"
  },
  "language_info": {
   "codemirror_mode": {
    "name": "ipython",
    "version": 3
   },
   "file_extension": ".py",
   "mimetype": "text/x-python",
   "name": "python",
   "nbconvert_exporter": "python",
   "pygments_lexer": "ipython3",
   "version": "3.7.6"
  }
 },
 "nbformat": 4,
 "nbformat_minor": 4
}
